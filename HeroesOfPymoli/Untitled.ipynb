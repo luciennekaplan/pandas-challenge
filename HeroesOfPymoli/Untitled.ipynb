{
 "cells": [
  {
   "cell_type": "code",
   "execution_count": 1,
   "metadata": {},
   "outputs": [],
   "source": [
    "import pandas as pd\n",
    "import numpy as np"
   ]
  },
  {
   "cell_type": "code",
   "execution_count": 2,
   "metadata": {},
   "outputs": [],
   "source": [
    "heroes_data = \"../Resources/purchase_data.csv\"\n",
    "purchase_data = pd.read_csv(heroes_data)"
   ]
  },
  {
   "cell_type": "code",
   "execution_count": 3,
   "metadata": {},
   "outputs": [
    {
     "data": {
      "text/html": [
       "<div>\n",
       "<style scoped>\n",
       "    .dataframe tbody tr th:only-of-type {\n",
       "        vertical-align: middle;\n",
       "    }\n",
       "\n",
       "    .dataframe tbody tr th {\n",
       "        vertical-align: top;\n",
       "    }\n",
       "\n",
       "    .dataframe thead th {\n",
       "        text-align: right;\n",
       "    }\n",
       "</style>\n",
       "<table border=\"1\" class=\"dataframe\">\n",
       "  <thead>\n",
       "    <tr style=\"text-align: right;\">\n",
       "      <th></th>\n",
       "      <th>Purchase ID</th>\n",
       "      <th>SN</th>\n",
       "      <th>Age</th>\n",
       "      <th>Gender</th>\n",
       "      <th>Item ID</th>\n",
       "      <th>Item Name</th>\n",
       "      <th>Price</th>\n",
       "    </tr>\n",
       "  </thead>\n",
       "  <tbody>\n",
       "    <tr>\n",
       "      <th>0</th>\n",
       "      <td>0</td>\n",
       "      <td>Lisim78</td>\n",
       "      <td>20</td>\n",
       "      <td>Male</td>\n",
       "      <td>108</td>\n",
       "      <td>Extraction, Quickblade Of Trembling Hands</td>\n",
       "      <td>3.53</td>\n",
       "    </tr>\n",
       "    <tr>\n",
       "      <th>1</th>\n",
       "      <td>1</td>\n",
       "      <td>Lisovynya38</td>\n",
       "      <td>40</td>\n",
       "      <td>Male</td>\n",
       "      <td>143</td>\n",
       "      <td>Frenzied Scimitar</td>\n",
       "      <td>1.56</td>\n",
       "    </tr>\n",
       "    <tr>\n",
       "      <th>2</th>\n",
       "      <td>2</td>\n",
       "      <td>Ithergue48</td>\n",
       "      <td>24</td>\n",
       "      <td>Male</td>\n",
       "      <td>92</td>\n",
       "      <td>Final Critic</td>\n",
       "      <td>4.88</td>\n",
       "    </tr>\n",
       "    <tr>\n",
       "      <th>3</th>\n",
       "      <td>3</td>\n",
       "      <td>Chamassasya86</td>\n",
       "      <td>24</td>\n",
       "      <td>Male</td>\n",
       "      <td>100</td>\n",
       "      <td>Blindscythe</td>\n",
       "      <td>3.27</td>\n",
       "    </tr>\n",
       "    <tr>\n",
       "      <th>4</th>\n",
       "      <td>4</td>\n",
       "      <td>Iskosia90</td>\n",
       "      <td>23</td>\n",
       "      <td>Male</td>\n",
       "      <td>131</td>\n",
       "      <td>Fury</td>\n",
       "      <td>1.44</td>\n",
       "    </tr>\n",
       "  </tbody>\n",
       "</table>\n",
       "</div>"
      ],
      "text/plain": [
       "   Purchase ID             SN  Age Gender  Item ID  \\\n",
       "0            0        Lisim78   20   Male      108   \n",
       "1            1    Lisovynya38   40   Male      143   \n",
       "2            2     Ithergue48   24   Male       92   \n",
       "3            3  Chamassasya86   24   Male      100   \n",
       "4            4      Iskosia90   23   Male      131   \n",
       "\n",
       "                                   Item Name  Price  \n",
       "0  Extraction, Quickblade Of Trembling Hands   3.53  \n",
       "1                          Frenzied Scimitar   1.56  \n",
       "2                               Final Critic   4.88  \n",
       "3                                Blindscythe   3.27  \n",
       "4                                       Fury   1.44  "
      ]
     },
     "execution_count": 3,
     "metadata": {},
     "output_type": "execute_result"
    }
   ],
   "source": [
    "purchase_data_df = purchase_data\n",
    "purchase_data_df.head()"
   ]
  },
  {
   "cell_type": "code",
   "execution_count": 4,
   "metadata": {},
   "outputs": [
    {
     "data": {
      "text/plain": [
       "Lisosia93      5\n",
       "Idastidru52    4\n",
       "Iral74         4\n",
       "Phaena87       3\n",
       "Iri67          3\n",
       "              ..\n",
       "Frichast28     1\n",
       "Marughi89      1\n",
       "Alaesu77       1\n",
       "Lisadar44      1\n",
       "Cosadar58      1\n",
       "Name: SN, Length: 576, dtype: int64"
      ]
     },
     "execution_count": 4,
     "metadata": {},
     "output_type": "execute_result"
    }
   ],
   "source": [
    "purchase_data_df[\"SN\"].value_counts()"
   ]
  },
  {
   "cell_type": "code",
   "execution_count": 5,
   "metadata": {},
   "outputs": [
    {
     "data": {
      "text/html": [
       "<div>\n",
       "<style scoped>\n",
       "    .dataframe tbody tr th:only-of-type {\n",
       "        vertical-align: middle;\n",
       "    }\n",
       "\n",
       "    .dataframe tbody tr th {\n",
       "        vertical-align: top;\n",
       "    }\n",
       "\n",
       "    .dataframe thead th {\n",
       "        text-align: right;\n",
       "    }\n",
       "</style>\n",
       "<table border=\"1\" class=\"dataframe\">\n",
       "  <thead>\n",
       "    <tr style=\"text-align: right;\">\n",
       "      <th></th>\n",
       "      <th>Total Players</th>\n",
       "    </tr>\n",
       "  </thead>\n",
       "  <tbody>\n",
       "    <tr>\n",
       "      <th>0</th>\n",
       "      <td>576</td>\n",
       "    </tr>\n",
       "  </tbody>\n",
       "</table>\n",
       "</div>"
      ],
      "text/plain": [
       "   Total Players\n",
       "0            576"
      ]
     },
     "execution_count": 5,
     "metadata": {},
     "output_type": "execute_result"
    }
   ],
   "source": [
    "playercount_df = pd.DataFrame({\"Total Players\" : [576]})\n",
    "playercount_df"
   ]
  },
  {
   "cell_type": "code",
   "execution_count": 6,
   "metadata": {},
   "outputs": [
    {
     "data": {
      "text/plain": [
       "Final Critic                                    13\n",
       "Oathbreaker, Last Hope of the Breaking Storm    12\n",
       "Persuasion                                       9\n",
       "Extraction, Quickblade Of Trembling Hands        9\n",
       "Nirvana                                          9\n",
       "                                                ..\n",
       "Exiled Mithril Longsword                         1\n",
       "Celeste                                          1\n",
       "The Decapitator                                  1\n",
       "Betrayer                                         1\n",
       "Riddle, Tribute of Ended Dreams                  1\n",
       "Name: Item Name, Length: 179, dtype: int64"
      ]
     },
     "execution_count": 6,
     "metadata": {},
     "output_type": "execute_result"
    }
   ],
   "source": [
    "unique_count = purchase_data_df[\"Item Name\"].value_counts()\n",
    "unique_count"
   ]
  },
  {
   "cell_type": "code",
   "execution_count": 7,
   "metadata": {},
   "outputs": [
    {
     "data": {
      "text/html": [
       "<div>\n",
       "<style scoped>\n",
       "    .dataframe tbody tr th:only-of-type {\n",
       "        vertical-align: middle;\n",
       "    }\n",
       "\n",
       "    .dataframe tbody tr th {\n",
       "        vertical-align: top;\n",
       "    }\n",
       "\n",
       "    .dataframe thead th {\n",
       "        text-align: right;\n",
       "    }\n",
       "</style>\n",
       "<table border=\"1\" class=\"dataframe\">\n",
       "  <thead>\n",
       "    <tr style=\"text-align: right;\">\n",
       "      <th></th>\n",
       "      <th>Number of Unique Items</th>\n",
       "      <th>Average Price</th>\n",
       "      <th>Number of Purchases</th>\n",
       "      <th>Total Revenue</th>\n",
       "    </tr>\n",
       "  </thead>\n",
       "  <tbody>\n",
       "    <tr>\n",
       "      <th>0</th>\n",
       "      <td>179</td>\n",
       "      <td>$3.05</td>\n",
       "      <td>780</td>\n",
       "      <td>$2,379.77</td>\n",
       "    </tr>\n",
       "  </tbody>\n",
       "</table>\n",
       "</div>"
      ],
      "text/plain": [
       "   Number of Unique Items Average Price  Number of Purchases Total Revenue\n",
       "0                     179         $3.05                  780     $2,379.77"
      ]
     },
     "execution_count": 7,
     "metadata": {},
     "output_type": "execute_result"
    }
   ],
   "source": [
    "avg_price = purchase_data_df[\"Price\"].mean()\n",
    "purchase_num = purchase_data_df[\"Purchase ID\"].count()\n",
    "revenue = purchase_data_df[\"Price\"].sum()\n",
    "purchasing_anal_df = pd.DataFrame({\"Number of Unique Items\" : [179], \"Average Price\" : [avg_price], \"Number of Purchases\": [purchase_num], \"Total Revenue\" : [revenue]})\n",
    "purchasing_anal_df[\"Average Price\"] = purchasing_anal_df[\"Average Price\"].astype(float).map(\n",
    "    \"${:,.2f}\".format)\n",
    "purchasing_anal_df[\"Total Revenue\"] = purchasing_anal_df[\"Total Revenue\"].astype(float).map(\n",
    "    \"${:,.2f}\".format)\n",
    "purchasing_anal_df"
   ]
  },
  {
   "cell_type": "code",
   "execution_count": 8,
   "metadata": {},
   "outputs": [],
   "source": [
    "unique_SN_df = purchase_data.drop_duplicates(subset=['SN'])"
   ]
  },
  {
   "cell_type": "code",
   "execution_count": 9,
   "metadata": {},
   "outputs": [],
   "source": [
    "female_groups = unique_SN_df.loc[unique_SN_df[\"Gender\"] == \"Female\", \"Purchase ID\"].count()\n",
    "male_groups=unique_SN_df.loc[unique_SN_df[\"Gender\"] == \"Male\", \"Purchase ID\"].count()\n",
    "other_groups= unique_SN_df.loc[unique_SN_df[\"Gender\"]== \"Other / Non-Disclosed\", \"Purchase ID\"].count()\n",
    "gendered_df = pd.DataFrame({\"Total Count\" : [female_groups, male_groups, other_groups], \"Gender\" : [\"Female\", \"Male\", \"Other\"]})"
   ]
  },
  {
   "cell_type": "code",
   "execution_count": 10,
   "metadata": {
    "scrolled": true
   },
   "outputs": [
    {
     "data": {
      "text/html": [
       "<div>\n",
       "<style scoped>\n",
       "    .dataframe tbody tr th:only-of-type {\n",
       "        vertical-align: middle;\n",
       "    }\n",
       "\n",
       "    .dataframe tbody tr th {\n",
       "        vertical-align: top;\n",
       "    }\n",
       "\n",
       "    .dataframe thead th {\n",
       "        text-align: right;\n",
       "    }\n",
       "</style>\n",
       "<table border=\"1\" class=\"dataframe\">\n",
       "  <thead>\n",
       "    <tr style=\"text-align: right;\">\n",
       "      <th></th>\n",
       "      <th>Total Count</th>\n",
       "      <th>Percentage of Players</th>\n",
       "    </tr>\n",
       "  </thead>\n",
       "  <tbody>\n",
       "    <tr>\n",
       "      <th>Female</th>\n",
       "      <td>81</td>\n",
       "      <td>14.06%</td>\n",
       "    </tr>\n",
       "    <tr>\n",
       "      <th>Male</th>\n",
       "      <td>484</td>\n",
       "      <td>84.03%</td>\n",
       "    </tr>\n",
       "    <tr>\n",
       "      <th>Other</th>\n",
       "      <td>11</td>\n",
       "      <td>1.91%</td>\n",
       "    </tr>\n",
       "  </tbody>\n",
       "</table>\n",
       "</div>"
      ],
      "text/plain": [
       "        Total Count Percentage of Players\n",
       "Female           81                14.06%\n",
       "Male            484                84.03%\n",
       "Other            11                 1.91%"
      ]
     },
     "execution_count": 10,
     "metadata": {},
     "output_type": "execute_result"
    }
   ],
   "source": [
    "gender_df = gendered_df.set_index(\"Gender\") \n",
    "gender_df.index.name = None\n",
    "gender_df[\"Percentage of Players\"] = (gender_df['Total Count'] / 576).astype(float).map(\n",
    "    \"{:,.2%}\".format)\n",
    "gender_df"
   ]
  },
  {
   "cell_type": "code",
   "execution_count": 11,
   "metadata": {},
   "outputs": [],
   "source": [
    "reduced_data_df = purchase_data_df[[\"Gender\", \"Price\", \"Purchase ID\"]]\n",
    "female_avg = reduced_data_df.loc[purchase_data_df[\"Gender\"] == \"Female\", \"Price\"].mean()\n",
    "male_avg=reduced_data_df.loc[purchase_data_df[\"Gender\"] == \"Male\", \"Price\"].mean()\n",
    "other_avg= reduced_data_df.loc[purchase_data_df[\"Gender\"]== \"Other / Non-Disclosed\", \"Price\"].mean()"
   ]
  },
  {
   "cell_type": "code",
   "execution_count": 12,
   "metadata": {},
   "outputs": [],
   "source": [
    "female_total = reduced_data_df.loc[purchase_data_df[\"Gender\"] == \"Female\", \"Price\"].sum()\n",
    "male_total=reduced_data_df.loc[purchase_data_df[\"Gender\"] == \"Male\", \"Price\"].sum()\n",
    "other_total= reduced_data_df.loc[purchase_data_df[\"Gender\"]== \"Other / Non-Disclosed\", \"Price\"].sum()"
   ]
  },
  {
   "cell_type": "code",
   "execution_count": 13,
   "metadata": {},
   "outputs": [],
   "source": [
    "ppp_female= (female_total/female_groups)\n",
    "ppp_male= (male_total/male_groups)\n",
    "ppp_other= (other_total/other_groups)"
   ]
  },
  {
   "cell_type": "code",
   "execution_count": 14,
   "metadata": {},
   "outputs": [],
   "source": [
    "female_group = reduced_data_df.loc[purchase_data_df[\"Gender\"] == \"Female\", \"Purchase ID\"].count()\n",
    "male_group=reduced_data_df.loc[purchase_data_df[\"Gender\"] == \"Male\", \"Purchase ID\"].count()\n",
    "other_group= reduced_data_df.loc[purchase_data_df[\"Gender\"]== \"Other / Non-Disclosed\", \"Purchase ID\"].count()"
   ]
  },
  {
   "cell_type": "code",
   "execution_count": 15,
   "metadata": {},
   "outputs": [
    {
     "data": {
      "text/html": [
       "<div>\n",
       "<style scoped>\n",
       "    .dataframe tbody tr th:only-of-type {\n",
       "        vertical-align: middle;\n",
       "    }\n",
       "\n",
       "    .dataframe tbody tr th {\n",
       "        vertical-align: top;\n",
       "    }\n",
       "\n",
       "    .dataframe thead th {\n",
       "        text-align: right;\n",
       "    }\n",
       "</style>\n",
       "<table border=\"1\" class=\"dataframe\">\n",
       "  <thead>\n",
       "    <tr style=\"text-align: right;\">\n",
       "      <th></th>\n",
       "      <th>Purchase Count</th>\n",
       "      <th>Average Purchase Price</th>\n",
       "      <th>Total Purchase Value</th>\n",
       "      <th>Avg Total Purchase per Person</th>\n",
       "    </tr>\n",
       "    <tr>\n",
       "      <th>Gender</th>\n",
       "      <th></th>\n",
       "      <th></th>\n",
       "      <th></th>\n",
       "      <th></th>\n",
       "    </tr>\n",
       "  </thead>\n",
       "  <tbody>\n",
       "    <tr>\n",
       "      <th>Female</th>\n",
       "      <td>113</td>\n",
       "      <td>$3.20</td>\n",
       "      <td>$361.94</td>\n",
       "      <td>$4.47</td>\n",
       "    </tr>\n",
       "    <tr>\n",
       "      <th>Male</th>\n",
       "      <td>652</td>\n",
       "      <td>$3.02</td>\n",
       "      <td>$1,967.64</td>\n",
       "      <td>$4.07</td>\n",
       "    </tr>\n",
       "    <tr>\n",
       "      <th>Other</th>\n",
       "      <td>15</td>\n",
       "      <td>$3.35</td>\n",
       "      <td>$50.19</td>\n",
       "      <td>$4.56</td>\n",
       "    </tr>\n",
       "  </tbody>\n",
       "</table>\n",
       "</div>"
      ],
      "text/plain": [
       "        Purchase Count Average Purchase Price Total Purchase Value  \\\n",
       "Gender                                                               \n",
       "Female             113                  $3.20              $361.94   \n",
       "Male               652                  $3.02            $1,967.64   \n",
       "Other               15                  $3.35               $50.19   \n",
       "\n",
       "       Avg Total Purchase per Person  \n",
       "Gender                                \n",
       "Female                         $4.47  \n",
       "Male                           $4.07  \n",
       "Other                          $4.56  "
      ]
     },
     "execution_count": 15,
     "metadata": {},
     "output_type": "execute_result"
    }
   ],
   "source": [
    "gender_purchasing_df = pd.DataFrame({\"Purchase Count\" : [female_group, male_group, other_group], \"Gender\" : [\"Female\", \"Male\", \"Other\"], \"Average Purchase Price\" : [female_avg, male_avg, other_avg], \"Total Purchase Value\" : [female_total, male_total, other_total], \"Avg Total Purchase per Person\" : [ppp_female, ppp_male, ppp_other]})\n",
    "gender_purchasing2_df = gender_purchasing_df.set_index(\"Gender\")\n",
    "gender_purchasing2_df[\"Average Purchase Price\"] = gender_purchasing2_df[\"Average Purchase Price\"].astype(float).map(\n",
    "    \"${:,.2f}\".format)\n",
    "gender_purchasing2_df[\"Total Purchase Value\"] = gender_purchasing2_df[\"Total Purchase Value\"].astype(float).map(\n",
    "    \"${:,.2f}\".format)\n",
    "gender_purchasing2_df[\"Avg Total Purchase per Person\"] = gender_purchasing2_df[\"Avg Total Purchase per Person\"].astype(float).map(\n",
    "    \"${:,.2f}\".format)\n",
    "gender_purchasing2_df\n"
   ]
  },
  {
   "cell_type": "code",
   "execution_count": 16,
   "metadata": {},
   "outputs": [],
   "source": [
    "bins = [0, 9, 14, 19, 24, 29, 34, 39, 100]\n",
    "group_labels = [\"<10\", \"10-14\", \"15-19\", \"20-24\", \"25-29\", \"30-34\", \"35-39\", \"40+\"]\n",
    "purchase_data_df[\"Age Group\"] = pd.cut(purchase_data_df[\"Age\"], bins, labels=group_labels, include_lowest=True)"
   ]
  },
  {
   "cell_type": "code",
   "execution_count": 17,
   "metadata": {},
   "outputs": [],
   "source": [
    "reduced_agedata_df = purchase_data_df[[\"Age Group\", \"Purchase ID\"]]\n",
    "reduced_agedata_df = purchase_data.drop_duplicates(subset=['SN'])"
   ]
  },
  {
   "cell_type": "code",
   "execution_count": 18,
   "metadata": {},
   "outputs": [],
   "source": [
    "underten_total = reduced_agedata_df.loc[reduced_agedata_df[\"Age Group\"] == \"<10\", \"Purchase ID\"].count()\n",
    "ten_to_fifteen= reduced_agedata_df.loc[reduced_agedata_df[\"Age Group\"] == \"10-14\", \"Purchase ID\"].count()\n",
    "fifteen_twenty= reduced_agedata_df.loc[reduced_agedata_df[\"Age Group\"] == \"15-19\", \"Purchase ID\"].count()\n",
    "twenty_five= reduced_agedata_df.loc[reduced_agedata_df[\"Age Group\"] == \"20-24\", \"Purchase ID\"].count()\n",
    "five_thirty= reduced_agedata_df.loc[reduced_agedata_df[\"Age Group\"] == \"25-29\", \"Purchase ID\"].count()\n",
    "thirty_five= reduced_agedata_df.loc[reduced_agedata_df[\"Age Group\"] == \"30-34\", \"Purchase ID\"].count()\n",
    "five_forty= reduced_agedata_df.loc[reduced_agedata_df[\"Age Group\"] == \"35-39\", \"Purchase ID\"].count()\n",
    "forty_plus= reduced_agedata_df.loc[reduced_agedata_df[\"Age Group\"] == \"40+\", \"Purchase ID\"].count()"
   ]
  },
  {
   "cell_type": "code",
   "execution_count": 19,
   "metadata": {},
   "outputs": [
    {
     "data": {
      "text/html": [
       "<div>\n",
       "<style scoped>\n",
       "    .dataframe tbody tr th:only-of-type {\n",
       "        vertical-align: middle;\n",
       "    }\n",
       "\n",
       "    .dataframe tbody tr th {\n",
       "        vertical-align: top;\n",
       "    }\n",
       "\n",
       "    .dataframe thead th {\n",
       "        text-align: right;\n",
       "    }\n",
       "</style>\n",
       "<table border=\"1\" class=\"dataframe\">\n",
       "  <thead>\n",
       "    <tr style=\"text-align: right;\">\n",
       "      <th></th>\n",
       "      <th>Total Count</th>\n",
       "      <th>Percentage of Players</th>\n",
       "    </tr>\n",
       "  </thead>\n",
       "  <tbody>\n",
       "    <tr>\n",
       "      <th>&lt;10</th>\n",
       "      <td>17</td>\n",
       "      <td>2.95%</td>\n",
       "    </tr>\n",
       "    <tr>\n",
       "      <th>10-14</th>\n",
       "      <td>22</td>\n",
       "      <td>3.82%</td>\n",
       "    </tr>\n",
       "    <tr>\n",
       "      <th>15-19</th>\n",
       "      <td>107</td>\n",
       "      <td>18.58%</td>\n",
       "    </tr>\n",
       "    <tr>\n",
       "      <th>20-24</th>\n",
       "      <td>258</td>\n",
       "      <td>44.79%</td>\n",
       "    </tr>\n",
       "    <tr>\n",
       "      <th>25-29</th>\n",
       "      <td>77</td>\n",
       "      <td>13.37%</td>\n",
       "    </tr>\n",
       "    <tr>\n",
       "      <th>30-34</th>\n",
       "      <td>52</td>\n",
       "      <td>9.03%</td>\n",
       "    </tr>\n",
       "    <tr>\n",
       "      <th>35-39</th>\n",
       "      <td>31</td>\n",
       "      <td>5.38%</td>\n",
       "    </tr>\n",
       "    <tr>\n",
       "      <th>40+</th>\n",
       "      <td>12</td>\n",
       "      <td>2.08%</td>\n",
       "    </tr>\n",
       "  </tbody>\n",
       "</table>\n",
       "</div>"
      ],
      "text/plain": [
       "       Total Count Percentage of Players\n",
       "<10             17                 2.95%\n",
       "10-14           22                 3.82%\n",
       "15-19          107                18.58%\n",
       "20-24          258                44.79%\n",
       "25-29           77                13.37%\n",
       "30-34           52                 9.03%\n",
       "35-39           31                 5.38%\n",
       "40+             12                 2.08%"
      ]
     },
     "execution_count": 19,
     "metadata": {},
     "output_type": "execute_result"
    }
   ],
   "source": [
    "age_demo_df = pd.DataFrame({ \"Age Group\" : [\"<10\", \"10-14\", \"15-19\", \"20-24\", \"25-29\", \"30-34\", \"35-39\", \"40+\"], \"Total Count\" : [underten_total, ten_to_fifteen, fifteen_twenty, twenty_five, five_thirty, thirty_five, five_forty, forty_plus]})\n",
    "age_demo_df = age_demo_df.set_index(\"Age Group\") \n",
    "age_demo_df[\"Percentage of Players\"] = (age_demo_df[\"Total Count\"]/576).astype(float).map(\n",
    "    \"{:,.2%}\".format)\n",
    "age_demo_df.index.name = None\n",
    "age_demo_df"
   ]
  },
  {
   "cell_type": "code",
   "execution_count": 20,
   "metadata": {},
   "outputs": [],
   "source": [
    "reduced_data_df = purchase_data_df[[\"Purchase ID\", \"Price\", \"Age Group\"]]\n",
    "ten_total = reduced_data_df.loc[reduced_data_df[\"Age Group\"] == \"<10\", \"Purchase ID\"].count()\n",
    "fifteen_total= reduced_data_df.loc[reduced_data_df[\"Age Group\"] == \"10-14\", \"Purchase ID\"].count()\n",
    "twenty_total= reduced_data_df.loc[reduced_data_df[\"Age Group\"] == \"15-19\", \"Purchase ID\"].count()\n",
    "twentyfive_total= reduced_data_df.loc[reduced_data_df[\"Age Group\"] == \"20-24\", \"Purchase ID\"].count()\n",
    "thirty_total= reduced_data_df.loc[reduced_data_df[\"Age Group\"] == \"25-29\", \"Purchase ID\"].count()\n",
    "thirtyfive_total= reduced_data_df.loc[reduced_data_df[\"Age Group\"] == \"30-34\", \"Purchase ID\"].count()\n",
    "forty_total= reduced_data_df.loc[reduced_data_df[\"Age Group\"] == \"35-39\", \"Purchase ID\"].count()\n",
    "fortyplus_total= reduced_data_df.loc[reduced_data_df[\"Age Group\"] == \"40+\", \"Purchase ID\"].count()\n",
    "pricetotal_10 = reduced_data_df.loc[reduced_data_df[\"Age Group\"] == \"<10\", \"Price\"].sum()\n",
    "pricetotal_15= reduced_data_df.loc[reduced_data_df[\"Age Group\"] == \"10-14\", \"Price\"].sum()\n",
    "pricetotal_20= reduced_data_df.loc[reduced_data_df[\"Age Group\"] == \"15-19\", \"Price\"].sum()\n",
    "pricetotal_25= reduced_data_df.loc[reduced_data_df[\"Age Group\"] == \"20-24\", \"Price\"].sum()\n",
    "pricetotal_30= reduced_data_df.loc[reduced_data_df[\"Age Group\"] == \"25-29\", \"Price\"].sum()\n",
    "pricetotal_35= reduced_data_df.loc[reduced_data_df[\"Age Group\"] == \"30-34\", \"Price\"].sum()\n",
    "pricetotal_40= reduced_data_df.loc[reduced_data_df[\"Age Group\"] == \"35-39\", \"Price\"].sum()\n",
    "pricetotal_plus= reduced_data_df.loc[reduced_data_df[\"Age Group\"] == \"40+\", \"Price\"].sum()\n",
    "avg_10 = reduced_data_df.loc[reduced_data_df[\"Age Group\"] == \"<10\", \"Price\"].mean()\n",
    "avg_15 = reduced_data_df.loc[reduced_data_df[\"Age Group\"] == \"10-14\", \"Price\"].mean()\n",
    "avg_20 = reduced_data_df.loc[reduced_data_df[\"Age Group\"] == \"15-19\", \"Price\"].mean()\n",
    "avg_25 = reduced_data_df.loc[reduced_data_df[\"Age Group\"] == \"20-24\", \"Price\"].mean()\n",
    "avg_30 = reduced_data_df.loc[reduced_data_df[\"Age Group\"] == \"25-29\", \"Price\"].mean()\n",
    "avg_35 = reduced_data_df.loc[reduced_data_df[\"Age Group\"] == \"30-34\", \"Price\"].mean()\n",
    "avg_40 = reduced_data_df.loc[reduced_data_df[\"Age Group\"] == \"35-39\", \"Price\"].mean()\n",
    "avg_plus = reduced_data_df.loc[reduced_data_df[\"Age Group\"] == \"40+\", \"Price\"].mean()\n",
    "pp10= (pricetotal_10 / underten_total)\n",
    "pp15= (pricetotal_15 / ten_to_fifteen)\n",
    "pp20= (pricetotal_20 / fifteen_twenty)\n",
    "pp25= (pricetotal_25/ twenty_five)\n",
    "pp30= (pricetotal_30/ five_thirty)\n",
    "pp35= (pricetotal_35 / thirty_five)\n",
    "pp40= (pricetotal_40/ five_forty)\n",
    "ppplus= (pricetotal_plus/forty_plus)\n",
    "new_age_dem_df = pd.DataFrame({\"Age Group\" : [\"<10\", \"10-14\", \"15-19\", \"20-24\", \"25-29\", \"30-34\", \"35-39\", \"40+\"], \"Purchase Count\": [ten_total, fifteen_total, twenty_total, twentyfive_total, thirty_total, thirtyfive_total, forty_total, fortyplus_total], \n",
    "                              \"Total Purchase Value\" : [pricetotal_10, pricetotal_15, pricetotal_20, pricetotal_25, pricetotal_30, pricetotal_35, pricetotal_40, pricetotal_plus],\n",
    "                              \"Average Purchase Price\" : [avg_10, avg_15, avg_20, avg_25, avg_30, avg_35, avg_40, avg_plus],\n",
    "                              \"Avg Total Purchase per Person\" : [pp10, pp15, pp20, pp25, pp30, pp35, pp40, ppplus]})                           \n",
    "                    "
   ]
  },
  {
   "cell_type": "code",
   "execution_count": 21,
   "metadata": {},
   "outputs": [],
   "source": [
    "new_age_dem_df[\"Total Purchase Value\"] = new_age_dem_df[\"Total Purchase Value\"].astype(float).map(\n",
    "    \"${:,.2f}\".format)\n",
    "new_age_dem_df[\"Average Purchase Price\"] = new_age_dem_df[\"Average Purchase Price\"].astype(float).map(\n",
    "    \"${:,.2f}\".format)\n",
    "new_age_dem_df[\"Avg Total Purchase per Person\"] = new_age_dem_df[\"Avg Total Purchase per Person\"].astype(float).map(\n",
    "    \"${:,.2f}\".format)"
   ]
  },
  {
   "cell_type": "code",
   "execution_count": 22,
   "metadata": {},
   "outputs": [
    {
     "data": {
      "text/html": [
       "<div>\n",
       "<style scoped>\n",
       "    .dataframe tbody tr th:only-of-type {\n",
       "        vertical-align: middle;\n",
       "    }\n",
       "\n",
       "    .dataframe tbody tr th {\n",
       "        vertical-align: top;\n",
       "    }\n",
       "\n",
       "    .dataframe thead th {\n",
       "        text-align: right;\n",
       "    }\n",
       "</style>\n",
       "<table border=\"1\" class=\"dataframe\">\n",
       "  <thead>\n",
       "    <tr style=\"text-align: right;\">\n",
       "      <th></th>\n",
       "      <th>Purchase Count</th>\n",
       "      <th>Total Purchase Value</th>\n",
       "      <th>Average Purchase Price</th>\n",
       "      <th>Avg Total Purchase per Person</th>\n",
       "    </tr>\n",
       "    <tr>\n",
       "      <th>Age Ranges</th>\n",
       "      <th></th>\n",
       "      <th></th>\n",
       "      <th></th>\n",
       "      <th></th>\n",
       "    </tr>\n",
       "  </thead>\n",
       "  <tbody>\n",
       "    <tr>\n",
       "      <th>&lt;10</th>\n",
       "      <td>23</td>\n",
       "      <td>$77.13</td>\n",
       "      <td>$3.35</td>\n",
       "      <td>$4.54</td>\n",
       "    </tr>\n",
       "    <tr>\n",
       "      <th>10-14</th>\n",
       "      <td>28</td>\n",
       "      <td>$82.78</td>\n",
       "      <td>$2.96</td>\n",
       "      <td>$3.76</td>\n",
       "    </tr>\n",
       "    <tr>\n",
       "      <th>15-19</th>\n",
       "      <td>136</td>\n",
       "      <td>$412.89</td>\n",
       "      <td>$3.04</td>\n",
       "      <td>$3.86</td>\n",
       "    </tr>\n",
       "    <tr>\n",
       "      <th>20-24</th>\n",
       "      <td>365</td>\n",
       "      <td>$1,114.06</td>\n",
       "      <td>$3.05</td>\n",
       "      <td>$4.32</td>\n",
       "    </tr>\n",
       "    <tr>\n",
       "      <th>25-29</th>\n",
       "      <td>101</td>\n",
       "      <td>$293.00</td>\n",
       "      <td>$2.90</td>\n",
       "      <td>$3.81</td>\n",
       "    </tr>\n",
       "    <tr>\n",
       "      <th>30-34</th>\n",
       "      <td>73</td>\n",
       "      <td>$214.00</td>\n",
       "      <td>$2.93</td>\n",
       "      <td>$4.12</td>\n",
       "    </tr>\n",
       "    <tr>\n",
       "      <th>35-39</th>\n",
       "      <td>41</td>\n",
       "      <td>$147.67</td>\n",
       "      <td>$3.60</td>\n",
       "      <td>$4.76</td>\n",
       "    </tr>\n",
       "    <tr>\n",
       "      <th>40+</th>\n",
       "      <td>13</td>\n",
       "      <td>$38.24</td>\n",
       "      <td>$2.94</td>\n",
       "      <td>$3.19</td>\n",
       "    </tr>\n",
       "  </tbody>\n",
       "</table>\n",
       "</div>"
      ],
      "text/plain": [
       "            Purchase Count Total Purchase Value Average Purchase Price  \\\n",
       "Age Ranges                                                               \n",
       "<10                     23               $77.13                  $3.35   \n",
       "10-14                   28               $82.78                  $2.96   \n",
       "15-19                  136              $412.89                  $3.04   \n",
       "20-24                  365            $1,114.06                  $3.05   \n",
       "25-29                  101              $293.00                  $2.90   \n",
       "30-34                   73              $214.00                  $2.93   \n",
       "35-39                   41              $147.67                  $3.60   \n",
       "40+                     13               $38.24                  $2.94   \n",
       "\n",
       "           Avg Total Purchase per Person  \n",
       "Age Ranges                                \n",
       "<10                                $4.54  \n",
       "10-14                              $3.76  \n",
       "15-19                              $3.86  \n",
       "20-24                              $4.32  \n",
       "25-29                              $3.81  \n",
       "30-34                              $4.12  \n",
       "35-39                              $4.76  \n",
       "40+                                $3.19  "
      ]
     },
     "execution_count": 22,
     "metadata": {},
     "output_type": "execute_result"
    }
   ],
   "source": [
    "new_age_dem_df = new_age_dem_df.rename(columns={\"Age Group\": \"Age Ranges\"})\n",
    "new_age_dem_df = new_age_dem_df.set_index(\"Age Ranges\")\n",
    "new_age_dem_df"
   ]
  },
  {
   "cell_type": "code",
   "execution_count": null,
   "metadata": {},
   "outputs": [],
   "source": []
  }
 ],
 "metadata": {
  "kernelspec": {
   "display_name": "Python 3",
   "language": "python",
   "name": "python3"
  },
  "language_info": {
   "codemirror_mode": {
    "name": "ipython",
    "version": 3
   },
   "file_extension": ".py",
   "mimetype": "text/x-python",
   "name": "python",
   "nbconvert_exporter": "python",
   "pygments_lexer": "ipython3",
   "version": "3.8.3"
  }
 },
 "nbformat": 4,
 "nbformat_minor": 4
}
